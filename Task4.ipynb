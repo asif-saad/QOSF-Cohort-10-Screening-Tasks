{
  "nbformat": 4,
  "nbformat_minor": 0,
  "metadata": {
    "colab": {
      "provenance": []
    },
    "kernelspec": {
      "name": "python3",
      "display_name": "Python 3"
    },
    "language_info": {
      "name": "python"
    }
  },
  "cells": [
    {
      "cell_type": "markdown",
      "source": [
        "# Task 4"
      ],
      "metadata": {
        "id": "fSs6fUaeBRg4"
      }
    },
    {
      "cell_type": "code",
      "source": [
        "!pip install qiskit\n",
        "!pip install numpy\n",
        "!pip install qiskit qiskit-aer"
      ],
      "metadata": {
        "colab": {
          "base_uri": "https://localhost:8080/"
        },
        "id": "wn8OMLoN_n2a",
        "outputId": "d75e5172-91a9-4d9b-99f4-0db80bdf15d2"
      },
      "execution_count": 6,
      "outputs": [
        {
          "output_type": "stream",
          "name": "stdout",
          "text": [
            "Requirement already satisfied: qiskit in /usr/local/lib/python3.10/dist-packages (1.2.4)\n",
            "Requirement already satisfied: rustworkx>=0.15.0 in /usr/local/lib/python3.10/dist-packages (from qiskit) (0.15.1)\n",
            "Requirement already satisfied: numpy<3,>=1.17 in /usr/local/lib/python3.10/dist-packages (from qiskit) (1.26.4)\n",
            "Requirement already satisfied: scipy>=1.5 in /usr/local/lib/python3.10/dist-packages (from qiskit) (1.13.1)\n",
            "Requirement already satisfied: sympy>=1.3 in /usr/local/lib/python3.10/dist-packages (from qiskit) (1.13.3)\n",
            "Requirement already satisfied: dill>=0.3 in /usr/local/lib/python3.10/dist-packages (from qiskit) (0.3.9)\n",
            "Requirement already satisfied: python-dateutil>=2.8.0 in /usr/local/lib/python3.10/dist-packages (from qiskit) (2.8.2)\n",
            "Requirement already satisfied: stevedore>=3.0.0 in /usr/local/lib/python3.10/dist-packages (from qiskit) (5.3.0)\n",
            "Requirement already satisfied: typing-extensions in /usr/local/lib/python3.10/dist-packages (from qiskit) (4.12.2)\n",
            "Requirement already satisfied: symengine<0.14,>=0.11 in /usr/local/lib/python3.10/dist-packages (from qiskit) (0.13.0)\n",
            "Requirement already satisfied: six>=1.5 in /usr/local/lib/python3.10/dist-packages (from python-dateutil>=2.8.0->qiskit) (1.16.0)\n",
            "Requirement already satisfied: pbr>=2.0.0 in /usr/local/lib/python3.10/dist-packages (from stevedore>=3.0.0->qiskit) (6.1.0)\n",
            "Requirement already satisfied: mpmath<1.4,>=1.1.0 in /usr/local/lib/python3.10/dist-packages (from sympy>=1.3->qiskit) (1.3.0)\n",
            "Requirement already satisfied: numpy in /usr/local/lib/python3.10/dist-packages (1.26.4)\n",
            "Requirement already satisfied: qiskit in /usr/local/lib/python3.10/dist-packages (1.2.4)\n",
            "Collecting qiskit-aer\n",
            "  Downloading qiskit_aer-0.15.1-cp310-cp310-manylinux_2_17_x86_64.manylinux2014_x86_64.whl.metadata (8.0 kB)\n",
            "Requirement already satisfied: rustworkx>=0.15.0 in /usr/local/lib/python3.10/dist-packages (from qiskit) (0.15.1)\n",
            "Requirement already satisfied: numpy<3,>=1.17 in /usr/local/lib/python3.10/dist-packages (from qiskit) (1.26.4)\n",
            "Requirement already satisfied: scipy>=1.5 in /usr/local/lib/python3.10/dist-packages (from qiskit) (1.13.1)\n",
            "Requirement already satisfied: sympy>=1.3 in /usr/local/lib/python3.10/dist-packages (from qiskit) (1.13.3)\n",
            "Requirement already satisfied: dill>=0.3 in /usr/local/lib/python3.10/dist-packages (from qiskit) (0.3.9)\n",
            "Requirement already satisfied: python-dateutil>=2.8.0 in /usr/local/lib/python3.10/dist-packages (from qiskit) (2.8.2)\n",
            "Requirement already satisfied: stevedore>=3.0.0 in /usr/local/lib/python3.10/dist-packages (from qiskit) (5.3.0)\n",
            "Requirement already satisfied: typing-extensions in /usr/local/lib/python3.10/dist-packages (from qiskit) (4.12.2)\n",
            "Requirement already satisfied: symengine<0.14,>=0.11 in /usr/local/lib/python3.10/dist-packages (from qiskit) (0.13.0)\n",
            "Requirement already satisfied: psutil>=5 in /usr/local/lib/python3.10/dist-packages (from qiskit-aer) (5.9.5)\n",
            "Requirement already satisfied: six>=1.5 in /usr/local/lib/python3.10/dist-packages (from python-dateutil>=2.8.0->qiskit) (1.16.0)\n",
            "Requirement already satisfied: pbr>=2.0.0 in /usr/local/lib/python3.10/dist-packages (from stevedore>=3.0.0->qiskit) (6.1.0)\n",
            "Requirement already satisfied: mpmath<1.4,>=1.1.0 in /usr/local/lib/python3.10/dist-packages (from sympy>=1.3->qiskit) (1.3.0)\n",
            "Downloading qiskit_aer-0.15.1-cp310-cp310-manylinux_2_17_x86_64.manylinux2014_x86_64.whl (12.3 MB)\n",
            "\u001b[2K   \u001b[90m━━━━━━━━━━━━━━━━━━━━━━━━━━━━━━━━━━━━━━━━\u001b[0m \u001b[32m12.3/12.3 MB\u001b[0m \u001b[31m43.0 MB/s\u001b[0m eta \u001b[36m0:00:00\u001b[0m\n",
            "\u001b[?25hInstalling collected packages: qiskit-aer\n",
            "Successfully installed qiskit-aer-0.15.1\n"
          ]
        }
      ]
    },
    {
      "cell_type": "code",
      "execution_count": 12,
      "metadata": {
        "colab": {
          "base_uri": "https://localhost:8080/"
        },
        "id": "UO4JT1bL6CN8",
        "outputId": "37d6d73b-c7ae-468c-b10e-9be9e24ee719"
      },
      "outputs": [
        {
          "output_type": "stream",
          "name": "stdout",
          "text": [
            "Circuit Depth: 7\n",
            "               ┌───┐                          \n",
            "q_0: ──────────┤ X ├──────────────────────────\n",
            "               └─┬─┘┌───┐                     \n",
            "q_1: ────────────┼──┤ X ├─────────────────────\n",
            "                 │  └─┬─┘┌───┐                \n",
            "q_2: ────────────┼────┼──┤ X ├────────────────\n",
            "                 │    │  └─┬─┘┌───┐           \n",
            "q_3: ────────────┼────┼────┼──┤ X ├───────────\n",
            "     ┌───┐┌───┐  │    │    │  └─┬─┘┌─────────┐\n",
            "q_4: ┤ H ├┤ X ├──■────■────■────■──┤ Rz(π/4) ├\n",
            "     └───┘└───┘                    └─────────┘\n",
            "Statevector: Statevector([0.65328148-0.27059805j, 0.        +0.j        ,\n",
            "             0.        +0.j        , 0.        +0.j        ,\n",
            "             0.        +0.j        , 0.        +0.j        ,\n",
            "             0.        +0.j        , 0.        +0.j        ,\n",
            "             0.        +0.j        , 0.        +0.j        ,\n",
            "             0.        +0.j        , 0.        +0.j        ,\n",
            "             0.        +0.j        , 0.        +0.j        ,\n",
            "             0.        +0.j        , 0.        +0.j        ,\n",
            "             0.        +0.j        , 0.        +0.j        ,\n",
            "             0.        +0.j        , 0.        +0.j        ,\n",
            "             0.        +0.j        , 0.        +0.j        ,\n",
            "             0.        +0.j        , 0.        +0.j        ,\n",
            "             0.        +0.j        , 0.        +0.j        ,\n",
            "             0.        +0.j        , 0.        +0.j        ,\n",
            "             0.        +0.j        , 0.        +0.j        ,\n",
            "             0.        +0.j        , 0.65328148+0.27059805j],\n",
            "            dims=(2, 2, 2, 2, 2))\n"
          ]
        }
      ],
      "source": [
        "from qiskit import QuantumCircuit, transpile\n",
        "from qiskit_aer import Aer\n",
        "from qiskit.visualization import plot_histogram\n",
        "import numpy as np\n",
        "\n",
        "# Parameters\n",
        "graph_connections = [(0, 4), (1, 4), (2, 4), (3, 4)]  # Define the edges in the graph\n",
        "num_qubits = 5  # Number of qubits in the circuit\n",
        "selected_states = [22, 17, 27, 12]  # States to be initialized\n",
        "initial_state_vector = [0] * 2**num_qubits  # Initialize state vector with zeros\n",
        "\n",
        "# Define the desired state vector\n",
        "for state in selected_states:\n",
        "    initial_state_vector[state] = 0.5  # Assign amplitude value to selected states\n",
        "\n",
        "# Create Quantum Circuit\n",
        "quantum_circuit = QuantumCircuit(num_qubits)\n",
        "\n",
        "# Apply Hadamard gate to qubit 4 to create superposition\n",
        "quantum_circuit.h(4)  # Apply H to qubit 4 as it connects to all others\n",
        "\n",
        "# Custom state preparation using basis gates [x, h, rz, cx]\n",
        "quantum_circuit.x(4)  # Set qubit 4\n",
        "quantum_circuit.cx(4, 0)  # Apply CNOT to create correlation between qubits 4 and 0\n",
        "quantum_circuit.cx(4, 1)  # Apply CNOT to create correlation between qubits 4 and 1\n",
        "quantum_circuit.cx(4, 2)  # Apply CNOT to create correlation between qubits 4 and 2\n",
        "quantum_circuit.cx(4, 3)  # Apply CNOT to create correlation between qubits 4 and 3\n",
        "\n",
        "# Apply RZ rotation to qubit 4\n",
        "quantum_circuit.rz(np.pi/4, 4)  # Rotate qubit 4 by pi/4 around Z-axis\n",
        "\n",
        "# Transpile the circuit and check its depth\n",
        "backend = Aer.get_backend('statevector_simulator')  # Use statevector simulator backend\n",
        "quantum_circuit = transpile(quantum_circuit, backend=backend, basis_gates=['x', 'h', 'rz', 'cx'], optimization_level=3)\n",
        "\n",
        "# Print the circuit depth\n",
        "print(\"Circuit Depth:\", quantum_circuit.depth())\n",
        "\n",
        "# Draw the quantum circuit\n",
        "print(quantum_circuit.draw())\n",
        "\n",
        "# Simulate the quantum circuit\n",
        "simulation_result = backend.run(quantum_circuit).result()  # Run the simulation\n",
        "output_state_vector = simulation_result.get_statevector()  # Get the statevector from the result\n",
        "\n",
        "# Print the statevector\n",
        "print(\"Statevector:\", output_state_vector)"
      ]
    },
    {
      "cell_type": "markdown",
      "source": [
        "In this task, I'm building a quantum circuit to prepare a specific state using 5 qubits. The goal is to create a state that represents certain values from a list, using a few basic quantum gates like Hadamard (H), X, controlled-X (CNOT), and rotation around the Z-axis (RZ).\n",
        "\n",
        "Here's how I approached the problem step-by-step:\n",
        "\n",
        "1. **Set Parameters**: I defined the number of qubits (`num_qubits = 5`), the specific states we want to prepare (`selected_states`), and initialized the state vector with zeros. Then, I assigned specific amplitude values (0.5) to the selected states.\n",
        "\n",
        "2. **Create the Quantum Circuit**: I created a quantum circuit with 5 qubits (`QuantumCircuit(num_qubits)`).\n",
        "\n",
        "3. **Apply Gates for Superposition and State Preparation**:\n",
        "   - I applied a Hadamard gate (`H`) to qubit 4. This creates a superposition state for qubit 4, which helps correlate it with the other qubits.\n",
        "   - I used an `X` gate to set qubit 4 and then used `CNOT` gates to create correlations between qubit 4 and the other qubits. These correlations are important to represent the selected states correctly.\n",
        "   - Finally, I applied an `RZ` gate to qubit 4 to rotate it around the Z-axis by π/4. This is used to fine-tune the phase of the qubit.\n",
        "\n",
        "4. **Transpile the Circuit**: To optimize the circuit for a specific backend (the `statevector_simulator`), I used the `transpile` function with a set of basis gates (`x`, `h`, `rz`, `cx`) and optimization level 3. Transpiling helps adapt the circuit to the quantum hardware or simulator, making it more efficient.\n",
        "\n",
        "5. **Simulate and Get Results**: I simulated the circuit using the `statevector_simulator` backend, which helps me see the final state vector after applying all the gates.\n",
        "\n",
        "The main goal is to efficiently prepare the desired state while keeping the circuit depth as low as possible. The use of specific gates and optimization is meant to achieve this efficiently."
      ],
      "metadata": {
        "id": "cTjqpovTBVxH"
      }
    }
  ]
}